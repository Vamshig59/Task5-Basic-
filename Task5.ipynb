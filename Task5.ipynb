{
  "nbformat": 4,
  "nbformat_minor": 0,
  "metadata": {
    "colab": {
      "provenance": []
    },
    "kernelspec": {
      "name": "python3",
      "display_name": "Python 3"
    },
    "language_info": {
      "name": "python"
    }
  },
  "cells": [
    {
      "cell_type": "code",
      "execution_count": null,
      "metadata": {
        "id": "p_fRHWWWnEx3"
      },
      "outputs": [],
      "source": []
    },
    {
      "cell_type": "markdown",
      "source": [
        "# Q1) Re.split()"
      ],
      "metadata": {
        "id": "bYnlTP8TnPUz"
      }
    },
    {
      "cell_type": "code",
      "source": [
        "regex_pattern = r\"[\\b\\W\\b]+\"   \n",
        "\n",
        "import re\n",
        "print(\"\\n\".join(re.split(regex_pattern, input())))"
      ],
      "metadata": {
        "id": "cHh6mIWwpdRn"
      },
      "execution_count": null,
      "outputs": []
    },
    {
      "cell_type": "markdown",
      "source": [
        "# Q2) Group(), Groups() & Groupdict()"
      ],
      "metadata": {
        "id": "Ge0qagnyp2nY"
      }
    },
    {
      "cell_type": "code",
      "source": [
        "import re\n",
        "char = input()\n",
        "pattern = r\"([a-zA-Z0-9])\\1+\"\n",
        "match = re.search(pattern,char)\n",
        "if match:\n",
        "    print(match.group(1))\n",
        "else:\n",
        "    print(-1)"
      ],
      "metadata": {
        "id": "OI7SwcwGp-L0"
      },
      "execution_count": null,
      "outputs": []
    },
    {
      "cell_type": "markdown",
      "source": [
        "# Q3) Re.findall() & Re.finditer()"
      ],
      "metadata": {
        "id": "qzT6zV3eqGZ6"
      }
    },
    {
      "cell_type": "code",
      "source": [
        "import re\n",
        "text = r'[aeiouAEIOU^]?[aeiouAEIOU]{2,}[^aeiouAEIOU$]'\n",
        "value = re.findall(text,input())\n",
        "if value:\n",
        "    [print(i[:-1]) for i in value]\n",
        "else:\n",
        "    print(-1)"
      ],
      "metadata": {
        "id": "C-dLKI19qPOc"
      },
      "execution_count": null,
      "outputs": []
    },
    {
      "cell_type": "markdown",
      "source": [
        "# Q4) Regex Substitution"
      ],
      "metadata": {
        "id": "mKMa0F6aqbFD"
      }
    },
    {
      "cell_type": "code",
      "source": [
        "import re\n",
        "trans = {'||': 'or', '&&': 'and'}\n",
        "for _ in range(int(input())):\n",
        "    print(re.sub('(?!^)(?<= )(\\|\\||&&)(?= )', lambda m: trans[m.group(1)], input()))"
      ],
      "metadata": {
        "id": "HUi1Ln7Bqhvz"
      },
      "execution_count": null,
      "outputs": []
    },
    {
      "cell_type": "markdown",
      "source": [
        "# Q5) Validating Roman Numerals"
      ],
      "metadata": {
        "id": "tAZR_HcWquAS"
      }
    },
    {
      "cell_type": "code",
      "source": [
        "regex_pattern = r'^(M{0,3})(CM|CD|D?C{0,3})(XC|XL|L?X{0,3})(IX|IV|V?I{0,3})$'\n",
        "import re"
      ],
      "metadata": {
        "id": "pzmt3Lfsq0lk"
      },
      "execution_count": null,
      "outputs": []
    },
    {
      "cell_type": "markdown",
      "source": [
        "# Q6) Validating phone numbers"
      ],
      "metadata": {
        "id": "wTQ4-H3drCsT"
      }
    },
    {
      "cell_type": "code",
      "source": [
        "for _ in range(int(input())):\n",
        "    print('YES' if bool(__import__('re').match('^[789]{1}\\d{9}$', input())) else 'NO')"
      ],
      "metadata": {
        "id": "yHPiqZM6rLiA"
      },
      "execution_count": null,
      "outputs": []
    },
    {
      "cell_type": "markdown",
      "source": [
        "# Q7) Validating and Parsing Email Addresses"
      ],
      "metadata": {
        "id": "T7TlqEFdrVPR"
      }
    },
    {
      "cell_type": "code",
      "source": [
        "import email.utils\n",
        "import re\n",
        "\n",
        "for _ in range(int(input())):\n",
        "    parser = email.utils.parseaddr(input())\n",
        "    email_pattern = r\"^[a-z][\\w\\-.]*@[a-z]+\\.[a-z]{1,3}$\"\n",
        "    match = re.search(email_pattern, parser[1], re.I)\n",
        "    if match:\n",
        "        print(email.utils.formataddr(parser))"
      ],
      "metadata": {
        "id": "gvlRjWWVrbTI"
      },
      "execution_count": null,
      "outputs": []
    },
    {
      "cell_type": "markdown",
      "source": [
        "# Q8) Hex Color Code"
      ],
      "metadata": {
        "id": "a2waf7iqrlwJ"
      }
    },
    {
      "cell_type": "code",
      "source": [
        "import re\n",
        "\n",
        "pattern = re.compile(r'#([0-9a-fA-F]{1,2}){3}')\n",
        "\n",
        "res = []\n",
        "for _ in range(int(input())):\n",
        "    s = input()\n",
        "    if s.endswith(';'):\n",
        "        res += [m.group(0) for m in re.finditer(pattern, s)]\n",
        "print(*res, sep='\\n')"
      ],
      "metadata": {
        "id": "KDtB4EENrs2h"
      },
      "execution_count": null,
      "outputs": []
    },
    {
      "cell_type": "markdown",
      "source": [
        "# Q9) HTML Parser - Part 1"
      ],
      "metadata": {
        "id": "Cg9UUEs9r6Y3"
      }
    },
    {
      "cell_type": "code",
      "source": [
        "from html.parser import HTMLParser\n",
        "\n",
        "class MyParser(HTMLParser):\n",
        "    def print(self, action, tag, attrs=()):\n",
        "        print(f\"{action:5} : {tag}\")\n",
        "        for name, value in attrs:\n",
        "            print(f\"-> {name} > {value}\")\n",
        "        \n",
        "    def handle_starttag(self, tag, attrs):\n",
        "        self.print(\"Start\", tag, attrs)\n",
        "\n",
        "    def handle_endtag(self, tag):\n",
        "        self.print(\"End\", tag)\n",
        "\n",
        "    def handle_startendtag(self, tag, attrs):\n",
        "        self.print(\"Empty\", tag, attrs)\n",
        "\n",
        "parser = MyParser()\n",
        "for _ in range(int(input())):\n",
        "    parser.feed(input())"
      ],
      "metadata": {
        "id": "KJ21jn-isEy7"
      },
      "execution_count": null,
      "outputs": []
    },
    {
      "cell_type": "markdown",
      "source": [
        "# Q10) HTML Parser - Part 2"
      ],
      "metadata": {
        "id": "8AvTCeRYsZ2I"
      }
    },
    {
      "cell_type": "code",
      "source": [
        "from html.parser import HTMLParser\n",
        "\n",
        "class MyHTMLParser(HTMLParser):    \n",
        "    def handle_comment(self, data):\n",
        "        prefix = 'Multi' if '\\n' in data else 'Single' \n",
        "        print(f\">>> {prefix}-line Comment\", data, sep=\"\\n\")\n",
        "    \n",
        "    def handle_data(self, data):\n",
        "        if data != \"\\n\":\n",
        "            print(\">>> Data\", data, sep=\"\\n\")\n",
        "\n",
        "  \n",
        "html = \"\"       \n",
        "for i in range(int(input())):\n",
        "    html += input().rstrip()\n",
        "    html += '\\n'\n",
        "    \n",
        "parser = MyHTMLParser()\n",
        "parser.feed(html)\n",
        "parser.close()"
      ],
      "metadata": {
        "id": "jGA5rHSLsh9u"
      },
      "execution_count": null,
      "outputs": []
    },
    {
      "cell_type": "markdown",
      "source": [
        "# Q11) Detect HTML Tags, Attributes and Attribute Values"
      ],
      "metadata": {
        "id": "VBD9F2oZs4h0"
      }
    },
    {
      "cell_type": "code",
      "source": [
        "from html.parser import HTMLParser\n",
        "\n",
        "class MyHTMLParser(HTMLParser):\n",
        "    def handle_starttag(self, tag, attrs):\n",
        "        print(tag, *('-> {0} > {1}'.format(*attr) for attr in attrs), sep='\\n')\n",
        "\n",
        "MyHTMLParser().feed(''.join([input() for _ in range(int(input()))]))"
      ],
      "metadata": {
        "id": "w9jfwfmetBGU"
      },
      "execution_count": null,
      "outputs": []
    },
    {
      "cell_type": "markdown",
      "source": [
        "#Q12) Validating UID"
      ],
      "metadata": {
        "id": "YstmTu8EtcVz"
      }
    },
    {
      "cell_type": "code",
      "source": [
        "import re\n",
        "\n",
        "def is_valid_uid(uid):\n",
        "    return all([\n",
        "        re.search(r'[A-Z].*[A-Z]', uid),\n",
        "        re.search(r'\\d.*\\d.*\\d', uid),\n",
        "        not re.search(r'\\W', uid),\n",
        "        len(set(uid)) == 10,\n",
        "        len(uid) == 10\n",
        "    ])\n",
        "\n",
        "t = int(input().strip())\n",
        "\n",
        "for i in range(t):\n",
        "    uid = input().strip()\n",
        "    if is_valid_uid(uid):\n",
        "        print(\"Valid\")\n",
        "    else:\n",
        "        print(\"Invalid\")"
      ],
      "metadata": {
        "id": "CfCR2omXtjar"
      },
      "execution_count": null,
      "outputs": []
    },
    {
      "cell_type": "markdown",
      "source": [
        "# Q13) Validating Credit Card Numbers"
      ],
      "metadata": {
        "id": "ULRnWszvttUJ"
      }
    },
    {
      "cell_type": "code",
      "source": [
        "import re\n",
        "\n",
        "for i in range(int(input())):\n",
        "    \n",
        "    text = input()\n",
        "    pattern = re.compile(r\"^([456][\\d+]{3})-([\\d+]{4})-([\\d+]{4})-([\\d+]{4})$|^([456][\\d+]{15})$\")\n",
        "\n",
        "    if pattern.match(text):\n",
        "        text = ''.join([i for i in text if i != '-'])\n",
        "        if all([False if i*4 in text  else True for i in set(text)]):\n",
        "            print(\"Valid\")\n",
        "        else:\n",
        "            print(\"Invalid\")\n",
        "    else:\n",
        "        print(\"Invalid\")    "
      ],
      "metadata": {
        "id": "xu8UPtM0t0Aw"
      },
      "execution_count": null,
      "outputs": []
    },
    {
      "cell_type": "markdown",
      "source": [
        "# Q14) Validating Postal Codes"
      ],
      "metadata": {
        "id": "BxhEs0UCuDCg"
      }
    },
    {
      "cell_type": "code",
      "source": [
        "regex_integer_in_range = r\"_________\"    \n",
        "regex_alternating_repetitive_digit_pair = r\"_________\"   \n",
        "\n",
        "\n",
        "import re\n",
        "P = input()\n",
        "\n",
        "print (bool(re.match(regex_integer_in_range, P)) \n",
        "and len(re.findall(regex_alternating_repetitive_digit_pair, P)) < 2)"
      ],
      "metadata": {
        "id": "xRjREmguuKnf"
      },
      "execution_count": null,
      "outputs": []
    },
    {
      "cell_type": "markdown",
      "source": [],
      "metadata": {
        "id": "AqkNirQxud--"
      }
    },
    {
      "cell_type": "code",
      "source": [],
      "metadata": {
        "id": "1bomu9xLuuBf"
      },
      "execution_count": null,
      "outputs": []
    },
    {
      "cell_type": "markdown",
      "source": [],
      "metadata": {
        "id": "4Vu70Z-BrKZ5"
      }
    }
  ]
}